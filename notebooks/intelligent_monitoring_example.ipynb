{
 "cells": [
  {
   "cell_type": "markdown",
   "id": "78af8e46",
   "metadata": {},
   "source": [
    "# Intelligent Fabric Monitoring with Smart Detection\n",
    "\n",
    "This notebook demonstrates the new **intelligent monitoring capabilities** that automatically detect Microsoft's workspace monitoring and adjust collection strategy to avoid conflicts while maximizing value.\n",
    "\n",
    "## ✨ What's New\n",
    "\n",
    "- **🧠 Smart Detection**: Automatically detects Microsoft's workspace monitoring\n",
    "- **🎯 Conflict Avoidance**: Skips data collection that conflicts with official monitoring\n",
    "- **⚡ Unique Value Focus**: Prioritizes data not covered by Microsoft\n",
    "- **🔧 Flexible Strategies**: Choose from auto, full, complement, or minimal approaches\n",
    "\n",
    "## 📋 Prerequisites\n",
    "\n",
    "1. **FabricLA-Connector v1.0+** with intelligent monitoring\n",
    "2. **Azure Log Analytics workspace** with DCR configured\n",
    "3. **Fabric authentication** (Azure CLI or service principal)\n",
    "4. **Workspace permissions** to read monitoring status"
   ]
  },
  {
   "cell_type": "markdown",
   "id": "ef26f36f",
   "metadata": {},
   "source": [
    "## 🔧 Configuration & Setup"
   ]
  },
  {
   "cell_type": "code",
   "execution_count": null,
   "id": "c5cb888a",
   "metadata": {},
   "outputs": [],
   "source": [
    "# Install the latest FabricLA-Connector if needed\n",
    "# %pip install fabricla-connector --upgrade\n",
    "\n",
    "import os\n",
    "from fabricla_connector import (\n",
    "    run_intelligent_monitoring_cycle,\n",
    "    check_workspace_monitoring_status,\n",
    "    get_collection_recommendations,\n",
    "    print_monitoring_status,\n",
    "    get_monitoring_strategy,\n",
    "    get_fabric_config,\n",
    "    print_config_status\n",
    ")\n",
    "\n",
    "print(\"✅ FabricLA-Connector with Intelligent Monitoring loaded\")"
   ]
  },
  {
   "cell_type": "code",
   "execution_count": null,
   "id": "3cd72b85",
   "metadata": {},
   "outputs": [],
   "source": [
    "# Configuration - Update these with your values\n",
    "WORKSPACE_ID = \"your-workspace-id\"  # Replace with your workspace ID\n",
    "CAPACITY_ID = \"your-capacity-id\"    # Replace with your capacity ID (optional)\n",
    "\n",
    "# Optional: Set monitoring strategy via environment variable\n",
    "# Options: 'auto' (default), 'full', 'complement', 'minimal'\n",
    "os.environ['FABRIC_MONITORING_STRATEGY'] = 'auto'\n",
    "\n",
    "print(f\"🎯 Target Workspace: {WORKSPACE_ID}\")\n",
    "print(f\"⚡ Target Capacity: {CAPACITY_ID or 'Not configured'}\")\n",
    "print(f\"🧠 Strategy: {os.environ.get('FABRIC_MONITORING_STRATEGY', 'auto')}\")"
   ]
  },
  {
   "cell_type": "markdown",
   "id": "080baabe",
   "metadata": {},
   "source": [
    "## 🔍 Step 1: Check Configuration Status"
   ]
  },
  {
   "cell_type": "code",
   "execution_count": null,
   "id": "265dbf4c",
   "metadata": {},
   "outputs": [],
   "source": [
    "# Verify configuration is properly set up\n",
    "print_config_status()"
   ]
  },
  {
   "cell_type": "markdown",
   "id": "dbd08ede",
   "metadata": {},
   "source": [
    "## 🔍 Step 2: Detect Workspace Monitoring Status"
   ]
  },
  {
   "cell_type": "code",
   "execution_count": null,
   "id": "e4aaa139",
   "metadata": {},
   "outputs": [],
   "source": [
    "# Check if Microsoft's workspace monitoring is enabled\n",
    "monitoring_status = check_workspace_monitoring_status(WORKSPACE_ID)\n",
    "\n",
    "print(\"🔍 Workspace Monitoring Detection Results:\")\n",
    "print(\"=\" * 50)\n",
    "\n",
    "enabled = monitoring_status.get('workspace_monitoring_enabled')\n",
    "method = monitoring_status.get('detection_method', 'unknown')\n",
    "\n",
    "if enabled is True:\n",
    "    print(f\"✅ Microsoft Workspace Monitoring: ENABLED\")\n",
    "    print(f\"📊 Detection Method: {method}\")\n",
    "    if monitoring_status.get('eventhouse_id'):\n",
    "        print(f\"🏠 Eventhouse ID: {monitoring_status['eventhouse_id']}\")\n",
    "elif enabled is False:\n",
    "    print(f\"❌ Microsoft Workspace Monitoring: DISABLED\")\n",
    "    print(f\"📊 Detection Method: {method}\")\n",
    "else:\n",
    "    print(f\"⚠️ Microsoft Workspace Monitoring: UNKNOWN\")\n",
    "    print(f\"📊 Detection Method: {method}\")\n",
    "    if monitoring_status.get('error'):\n",
    "        print(f\"❌ Error: {monitoring_status['error']}\")\n",
    "\n",
    "print(\"\\n💡 This detection determines which data sources we should collect to avoid conflicts.\")"
   ]
  },
  {
   "cell_type": "markdown",
   "id": "4db09848",
   "metadata": {},
   "source": [
    "## 📋 Step 3: Get Collection Recommendations"
   ]
  },
  {
   "cell_type": "code",
   "execution_count": null,
   "id": "1c5cbcc1",
   "metadata": {},
   "outputs": [],
   "source": [
    "# Get intelligent recommendations for what to collect\n",
    "recommendations = get_collection_recommendations(WORKSPACE_ID, strategy='auto')\n",
    "\n",
    "print(\"📋 Intelligent Collection Recommendations:\")\n",
    "print(\"=\" * 50)\n",
    "\n",
    "if 'error' in recommendations:\n",
    "    print(f\"❌ Error getting recommendations: {recommendations['error']}\")\n",
    "else:\n",
    "    for source, rec in recommendations['recommendations'].items():\n",
    "        status = \"✅ COLLECT\" if rec['collect'] else \"❌ SKIP\"\n",
    "        reason = rec.get('reason', 'Unknown reason')\n",
    "        \n",
    "        print(f\"{status} {source.replace('_', ' ').title()}\")\n",
    "        print(f\"   └─ {reason}\")\n",
    "        \n",
    "        if not rec['collect'] and rec.get('alternative'):\n",
    "            print(f\"   💡 Alternative: {rec['alternative']}\")\n",
    "        print()"
   ]
  },
  {
   "cell_type": "markdown",
   "id": "12afff89",
   "metadata": {},
   "source": [
    "## 🚀 Step 4: Run Intelligent Monitoring\n",
    "\n",
    "This is the main intelligent monitoring cycle that automatically adapts to your workspace monitoring setup."
   ]
  },
  {
   "cell_type": "code",
   "execution_count": null,
   "id": "b886f5ea",
   "metadata": {},
   "outputs": [],
   "source": [
    "# Run the intelligent monitoring cycle\n",
    "print(\"🚀 Starting Intelligent Monitoring Cycle...\")\n",
    "print(\"=\" * 50)\n",
    "\n",
    "result = run_intelligent_monitoring_cycle(\n",
    "    workspace_id=WORKSPACE_ID,\n",
    "    capacity_id=CAPACITY_ID,  # Can be None if not available\n",
    "    strategy_override=None    # Uses environment variable or 'auto'\n",
    ")\n",
    "\n",
    "print(\"\\n\" + \"=\" * 50)\n",
    "print(\"📊 MONITORING CYCLE RESULTS\")\n",
    "print(\"=\" * 50)\n",
    "\n",
    "if result.get('status') == 'success':\n",
    "    summary = result['summary']\n",
    "    print(f\"✅ Status: SUCCESS\")\n",
    "    print(f\"📊 Data Sources Collected: {summary['collected_sources']}/{summary['total_sources']}\")\n",
    "    print(f\"📝 Total Records Ingested: {summary['total_records']:,}\")\n",
    "    print(f\"🧠 Strategy Used: {result['strategy']}\")\n",
    "    \n",
    "    if result['collections']:\n",
    "        print(f\"\\n✅ Successful Collections:\")\n",
    "        for source, details in result['collections'].items():\n",
    "            records = details.get('records_collected', 0)\n",
    "            print(f\"   • {source.replace('_', ' ').title()}: {records:,} records\")\n",
    "    \n",
    "    if result['skipped_collections']:\n",
    "        print(f\"\\n⏭️ Skipped Collections:\")\n",
    "        for source, decision in result['skipped_collections'].items():\n",
    "            reason = decision.get('reason', 'Unknown')\n",
    "            print(f\"   • {source.replace('_', ' ').title()}: {reason}\")\n",
    "            if decision.get('alternative'):\n",
    "                print(f\"     💡 Alternative: {decision['alternative']}\")\n",
    "else:\n",
    "    print(f\"❌ Status: ERROR\")\n",
    "    print(f\"❌ Error: {result.get('error', 'Unknown error')}\")"
   ]
  },
  {
   "cell_type": "markdown",
   "id": "f71e9cc8",
   "metadata": {},
   "source": [
    "## 🔧 Step 5: Try Different Strategies\n",
    "\n",
    "Experiment with different monitoring strategies to see how they affect collection decisions."
   ]
  },
  {
   "cell_type": "code",
   "execution_count": null,
   "id": "25e6c8df",
   "metadata": {},
   "outputs": [],
   "source": [
    "# Compare different strategies\n",
    "strategies = ['auto', 'full', 'complement', 'minimal']\n",
    "\n",
    "print(\"🔧 Strategy Comparison:\")\n",
    "print(\"=\" * 60)\n",
    "\n",
    "for strategy in strategies:\n",
    "    print(f\"\\n🧠 Strategy: {strategy.upper()}\")\n",
    "    print(\"-\" * 30)\n",
    "    \n",
    "    strategy_recs = get_collection_recommendations(WORKSPACE_ID, strategy=strategy)\n",
    "    \n",
    "    if 'error' not in strategy_recs:\n",
    "        collect_count = sum(1 for rec in strategy_recs['recommendations'].values() if rec['collect'])\n",
    "        total_count = len(strategy_recs['recommendations'])\n",
    "        \n",
    "        print(f\"📊 Will collect: {collect_count}/{total_count} data sources\")\n",
    "        \n",
    "        for source, rec in strategy_recs['recommendations'].items():\n",
    "            status = \"✅\" if rec['collect'] else \"❌\"\n",
    "            print(f\"   {status} {source.replace('_', ' ').title()}\")\n",
    "    else:\n",
    "        print(f\"❌ Error: {strategy_recs['error']}\")"
   ]
  },
  {
   "cell_type": "markdown",
   "id": "9a4b9d4d",
   "metadata": {},
   "source": [
    "## 🎯 Step 6: Complementary Monitoring (Recommended)\n",
    "\n",
    "If you want to only collect data that doesn't conflict with Microsoft's workspace monitoring, use the complementary strategy."
   ]
  },
  {
   "cell_type": "code",
   "execution_count": null,
   "id": "39203b93",
   "metadata": {},
   "outputs": [],
   "source": [
    "# Import the complementary monitoring function\n",
    "from fabricla_connector import run_complementary_monitoring_cycle\n",
    "\n",
    "print(\"🎯 Running Complementary Monitoring (Conflict-Free)...\")\n",
    "print(\"=\" * 50)\n",
    "\n",
    "complementary_result = run_complementary_monitoring_cycle(\n",
    "    workspace_id=WORKSPACE_ID,\n",
    "    capacity_id=CAPACITY_ID\n",
    ")\n",
    "\n",
    "if complementary_result.get('status') == 'success':\n",
    "    summary = complementary_result['summary']\n",
    "    print(f\"✅ Complementary monitoring completed successfully\")\n",
    "    print(f\"📊 Unique data sources collected: {summary['collected_sources']}\")\n",
    "    print(f\"📝 Total records: {summary['total_records']:,}\")\n",
    "    print(f\"\\n💡 This strategy focuses only on data NOT covered by Microsoft's workspace monitoring.\")\n",
    "else:\n",
    "    print(f\"❌ Error: {complementary_result.get('error')}\")"
   ]
  },
  {
   "cell_type": "markdown",
   "id": "cf507655",
   "metadata": {},
   "source": [
    "## 📚 Understanding the Strategies\n",
    "\n",
    "### 🧠 **Auto Strategy (Recommended)**\n",
    "- Automatically detects workspace monitoring status\n",
    "- Collects conflicting data only if workspace monitoring is disabled\n",
    "- Focuses on unique value when workspace monitoring is enabled\n",
    "\n",
    "### 🎯 **Complement Strategy**\n",
    "- Only collects data NOT covered by Microsoft's workspace monitoring\n",
    "- Safest approach to avoid any conflicts\n",
    "- Recommended for customers using Microsoft's official monitoring\n",
    "\n",
    "### 🔧 **Full Strategy**\n",
    "- Collects all data regardless of workspace monitoring status\n",
    "- May duplicate Microsoft's data but provides complete coverage\n",
    "- Useful for customers who prefer centralized monitoring in Log Analytics\n",
    "\n",
    "### ⚡ **Minimal Strategy**\n",
    "- Only collects critical unique data (pipelines, capacity)\n",
    "- Smallest footprint, highest unique value\n",
    "- Good for cost-conscious deployments\n",
    "\n",
    "## 🚀 Next Steps\n",
    "\n",
    "1. **Set up automation**: Use the intelligent workflows in your scheduled notebooks\n",
    "2. **Monitor Log Analytics**: Query your custom tables for insights\n",
    "3. **Configure alerts**: Set up alerts on the collected operational data\n",
    "4. **Complement Microsoft's monitoring**: Use alongside workspace monitoring for complete coverage\n",
    "\n",
    "## 📖 Documentation\n",
    "\n",
    "For more information, see the [FabricLA-Connector documentation](https://github.com/Keayoub/FabricLA-Connector) with the latest intelligent monitoring features."
   ]
  }
 ],
 "metadata": {
  "language_info": {
   "name": "python"
  }
 },
 "nbformat": 4,
 "nbformat_minor": 5
}
